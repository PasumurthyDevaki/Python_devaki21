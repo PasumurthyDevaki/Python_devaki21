{
 "cells": [
  {
   "cell_type": "markdown",
   "id": "6b06b70f",
   "metadata": {},
   "source": [
    "### What is OOPs?\n",
    "- OOPs allows decomposition of a problem into a no of units called objects.\n",
    "- Python is an OOPs language.\n",
    "\n",
    "### Why to use OOPs?\n",
    "- Provides clear programming structure.\n",
    "- it makes the development and maintenance easier\n",
    "- Code reusability.\n",
    "\n",
    "### Class\n",
    "- Class is a colloection of variables and methods.\n",
    "\n",
    "     Syntax: class classname:\n",
    "                 list of variables\n",
    "                 list of methods\n",
    "                  \n",
    "### Object\n",
    "- An object is also called an instance of a class.\n",
    "- An object is a collection of data and methods.\n",
    "\n",
    "     Syntax: objectname = classname"
   ]
  },
  {
   "cell_type": "code",
   "execution_count": 1,
   "id": "31ce416e",
   "metadata": {},
   "outputs": [
    {
     "name": "stdout",
     "output_type": "stream",
     "text": [
      "10\n",
      "20\n",
      "Hi,I am from display function\n",
      "9\n"
     ]
    }
   ],
   "source": [
    "# Example for class creation\n",
    "\n",
    "class Hi:\n",
    "    a,b = 10,20\n",
    "    def display():\n",
    "        print(\"Hi,I am from display function\")\n",
    "        return 9\n",
    "    \n",
    "obj = Hi\n",
    "print(obj.a)\n",
    "print(obj.b)\n",
    "print(obj.display())"
   ]
  },
  {
   "cell_type": "code",
   "execution_count": 2,
   "id": "e9fd60e4",
   "metadata": {
    "scrolled": false
   },
   "outputs": [
    {
     "name": "stdout",
     "output_type": "stream",
     "text": [
      "34\n",
      "30\n"
     ]
    }
   ],
   "source": [
    "class Math:\n",
    "    def add(m,n):\n",
    "        return n+m\n",
    "    def mul(m,n):\n",
    "        return n*m\n",
    "    \n",
    "obj = Math\n",
    "print(obj.add(13,21))\n",
    "print(obj.mul(5,6))"
   ]
  },
  {
   "cell_type": "markdown",
   "id": "2f70cc39",
   "metadata": {},
   "source": [
    "### Constructor\n",
    "- It's task is to initiablize to the data members of a class when an object of a class is created.\n",
    "\n",
    "       Syntax:\n",
    "               class className:\n",
    "                   def ___init___(self): it is constructor\n",
    "                   def ___init___(self,a,b):\n",
    "                   def ___init___(a,b,self):\n",
    "                   \n",
    "- The self parameter is a reference to the current instance of the class, and is used to acces variables that belongs to the class. "
   ]
  },
  {
   "cell_type": "code",
   "execution_count": 8,
   "id": "2b13d2dc",
   "metadata": {},
   "outputs": [
    {
     "name": "stdout",
     "output_type": "stream",
     "text": [
      "13\n",
      "31\n"
     ]
    }
   ],
   "source": [
    "class Math:\n",
    "    def __init__(self,n1,n2):\n",
    "        self.n1 = n1\n",
    "        self.n2 = n2\n",
    "    def show(self):\n",
    "        print(self.n1)\n",
    "        print(self.n2)\n",
    "        \n",
    "obj = Math(13,31)\n",
    "obj.show()"
   ]
  },
  {
   "cell_type": "code",
   "execution_count": 9,
   "id": "04c8fe79",
   "metadata": {},
   "outputs": [
    {
     "name": "stdout",
     "output_type": "stream",
     "text": [
      "2\n",
      "5\n"
     ]
    }
   ],
   "source": [
    "class Math:\n",
    "    def __init__(abc,n1,n2):\n",
    "        abc.n1 = n1\n",
    "        abc.n2 = n2\n",
    "    def show(abc):\n",
    "        print(abc.n1)\n",
    "        print(abc.n2)\n",
    "obj = Math(2,5)\n",
    "obj.show()"
   ]
  },
  {
   "cell_type": "code",
   "execution_count": 1,
   "id": "37f2ce1c",
   "metadata": {},
   "outputs": [
    {
     "name": "stdout",
     "output_type": "stream",
     "text": [
      "<class '__main__.MyClass'>\n"
     ]
    }
   ],
   "source": [
    "class MyClass:\n",
    "    x = 5\n",
    "    \n",
    "print(MyClass)"
   ]
  },
  {
   "cell_type": "markdown",
   "id": "75d226ec",
   "metadata": {},
   "source": [
    "### Single inheritance"
   ]
  },
  {
   "cell_type": "code",
   "execution_count": 2,
   "id": "fa4994e3",
   "metadata": {},
   "outputs": [
    {
     "name": "stdout",
     "output_type": "stream",
     "text": [
      "31\n",
      "I am from class A\n",
      "None\n"
     ]
    },
    {
     "data": {
      "text/plain": [
       "21"
      ]
     },
     "execution_count": 2,
     "metadata": {},
     "output_type": "execute_result"
    }
   ],
   "source": [
    "class A:\n",
    "    a,b = 13,31\n",
    "    def display():\n",
    "        print('I am from class A')\n",
    "class B(A):\n",
    "    c,d = 21,6\n",
    "    def show():\n",
    "        print('I am from class B')\n",
    "        \n",
    "obj = B\n",
    "print(obj.b)\n",
    "print(obj.display())\n",
    "obj.c"
   ]
  },
  {
   "cell_type": "code",
   "execution_count": 5,
   "id": "ba930957",
   "metadata": {},
   "outputs": [
    {
     "name": "stdout",
     "output_type": "stream",
     "text": [
      "I am from class A\n"
     ]
    }
   ],
   "source": [
    "class A:\n",
    "    def classA():\n",
    "        print('I am from class A')\n",
    "class B(A):\n",
    "    def classB():\n",
    "        print('I am from class B')\n",
    "class C(B):\n",
    "    def classB():\n",
    "        print('I am from class B')\n",
    "        \n",
    "obj = C\n",
    "obj.classA()"
   ]
  },
  {
   "cell_type": "code",
   "execution_count": 6,
   "id": "f36c07d5",
   "metadata": {},
   "outputs": [
    {
     "name": "stdout",
     "output_type": "stream",
     "text": [
      "I am from class B\n"
     ]
    }
   ],
   "source": [
    "obj.classB()"
   ]
  },
  {
   "cell_type": "markdown",
   "id": "6a94c12e",
   "metadata": {},
   "source": [
    "### Multiple Inheritance\n",
    "- More than one parent class and one child class"
   ]
  },
  {
   "cell_type": "code",
   "execution_count": null,
   "id": "1e3ceaac",
   "metadata": {},
   "outputs": [],
   "source": []
  }
 ],
 "metadata": {
  "kernelspec": {
   "display_name": "Python 3",
   "language": "python",
   "name": "python3"
  },
  "language_info": {
   "codemirror_mode": {
    "name": "ipython",
    "version": 3
   },
   "file_extension": ".py",
   "mimetype": "text/x-python",
   "name": "python",
   "nbconvert_exporter": "python",
   "pygments_lexer": "ipython3",
   "version": "3.8.8"
  }
 },
 "nbformat": 4,
 "nbformat_minor": 5
}

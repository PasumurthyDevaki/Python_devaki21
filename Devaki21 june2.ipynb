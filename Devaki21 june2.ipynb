{
 "cells": [
  {
   "cell_type": "markdown",
   "id": "6ab5c84d",
   "metadata": {},
   "source": [
    "### Function\n",
    "- A function is a set of statements that take inputs,do specific computation and produces output.\n",
    "- Functions are reusable\n",
    "\n",
    "**Parameters:**\n",
    "    A parameter is a variable used to define a particular value during a function definition.\n",
    "    \n",
    "**Arguments:**\n",
    "    An argument is a value passed to a function at that time of function calling.\n",
    "    \n",
    "    Syntax:   def function_name(define parameters):\n",
    "                  statement1\n",
    "                  statement2\n",
    "                  statement3\n",
    "                  .\n",
    "                  .\n",
    "                  statement n\n",
    "              function_name(pass arguments)"
   ]
  },
  {
   "cell_type": "code",
   "execution_count": 3,
   "id": "57e840f7",
   "metadata": {},
   "outputs": [
    {
     "name": "stdout",
     "output_type": "stream",
     "text": [
      "5 is odd\n"
     ]
    }
   ],
   "source": [
    "n = 5\n",
    "if(n%2 == 0):\n",
    "        print(n,\"is even\")\n",
    "else:\n",
    "        print(n,\"is odd\")"
   ]
  },
  {
   "cell_type": "code",
   "execution_count": 1,
   "id": "25f36d5b",
   "metadata": {},
   "outputs": [],
   "source": [
    "def isEvenorOdd(n):\n",
    "    if(n%2 == 0):\n",
    "        print(n,\"is even\")\n",
    "    else:\n",
    "        print(n,\"is odd\")"
   ]
  },
  {
   "cell_type": "code",
   "execution_count": 2,
   "id": "46582410",
   "metadata": {},
   "outputs": [
    {
     "name": "stdout",
     "output_type": "stream",
     "text": [
      "87 is odd\n"
     ]
    }
   ],
   "source": [
    "isEvenorOdd(87)"
   ]
  },
  {
   "cell_type": "code",
   "execution_count": 7,
   "id": "3ce39ba8",
   "metadata": {},
   "outputs": [
    {
     "name": "stdout",
     "output_type": "stream",
     "text": [
      "51\n"
     ]
    }
   ],
   "source": [
    "def add(x,y):\n",
    "    print(x+y)\n",
    "    \n",
    "add(21,30)"
   ]
  },
  {
   "cell_type": "code",
   "execution_count": 13,
   "id": "117d9dc8",
   "metadata": {},
   "outputs": [
    {
     "name": "stdout",
     "output_type": "stream",
     "text": [
      "I printed\n",
      "I returned\n"
     ]
    }
   ],
   "source": [
    "def fun_that_prints():\n",
    "    print(\"I printed\")\n",
    "def fun_that_returns():\n",
    "    return(\"I returned\")\n",
    "\n",
    "fun_that_prints()\n",
    "print(fun_that_returns())"
   ]
  },
  {
   "cell_type": "code",
   "execution_count": 16,
   "id": "a4c5cd9e",
   "metadata": {},
   "outputs": [
    {
     "name": "stdout",
     "output_type": "stream",
     "text": [
      "5\n",
      "None\n",
      "7\n"
     ]
    }
   ],
   "source": [
    "def floor():\n",
    "    print(5)\n",
    "def ceil():\n",
    "    return 7\n",
    "\n",
    "print(floor())\n",
    "print(ceil())"
   ]
  },
  {
   "cell_type": "code",
   "execution_count": 17,
   "id": "3fb1f4ca",
   "metadata": {},
   "outputs": [
    {
     "name": "stdout",
     "output_type": "stream",
     "text": [
      "7\n",
      "N factorial is: 5040\n"
     ]
    }
   ],
   "source": [
    "def factorial(n):\n",
    "    fact = 1\n",
    "    if(n == 1):\n",
    "        print(1)\n",
    "    else:\n",
    "        for i in range(1,n+1):\n",
    "            fact *= i\n",
    "        print(\"N factorial is:\",fact)\n",
    "        \n",
    "m = int(input())\n",
    "factorial(m)"
   ]
  },
  {
   "cell_type": "markdown",
   "id": "40159495",
   "metadata": {},
   "source": [
    "### Types of functions in python\n",
    "1. Without arguments & without return values\n",
    "2. Without arguments & with return values\n",
    "3. With arguments & without return values\n",
    "4. With arguments & with return values"
   ]
  },
  {
   "cell_type": "code",
   "execution_count": 18,
   "id": "6c4e9e27",
   "metadata": {},
   "outputs": [
    {
     "name": "stdout",
     "output_type": "stream",
     "text": [
      "8\n"
     ]
    }
   ],
   "source": [
    "# Without arguments & without return values\n",
    "\n",
    "def Addition():\n",
    "    a,b = 5,3\n",
    "    print(a+b)\n",
    "    \n",
    "Addition()"
   ]
  },
  {
   "cell_type": "code",
   "execution_count": 20,
   "id": "b185a2a4",
   "metadata": {},
   "outputs": [
    {
     "name": "stdout",
     "output_type": "stream",
     "text": [
      "15\n"
     ]
    }
   ],
   "source": [
    "# Without arguments & with return values\n",
    "\n",
    "def multiplication():\n",
    "    a,b = 5,3\n",
    "    res = a*b\n",
    "    return res\n",
    "\n",
    "print(multiplication())"
   ]
  },
  {
   "cell_type": "code",
   "execution_count": 21,
   "id": "005095b4",
   "metadata": {},
   "outputs": [
    {
     "name": "stdout",
     "output_type": "stream",
     "text": [
      "24\n"
     ]
    }
   ],
   "source": [
    "# With arguments & without return values\n",
    "\n",
    "def multiplication(a,b):\n",
    "    print(a*b)\n",
    "    \n",
    "multiplication(8,3)"
   ]
  },
  {
   "cell_type": "code",
   "execution_count": 22,
   "id": "7ec3eb97",
   "metadata": {},
   "outputs": [
    {
     "name": "stdout",
     "output_type": "stream",
     "text": [
      "72\n"
     ]
    }
   ],
   "source": [
    "# With arguments & with return values\n",
    "\n",
    "def Mul(a,b):\n",
    "    res = a*b\n",
    "    return res\n",
    "    \n",
    "print(Mul(8,9))"
   ]
  },
  {
   "cell_type": "markdown",
   "id": "1bd4b386",
   "metadata": {},
   "source": [
    "### Types of arguments\n",
    "1. Actual arguments\n",
    "    1. Position\n",
    "    2. Keyword\n",
    "    3. Default\n",
    "    4. Variable length arguments \n",
    "\n",
    "2. Formal arguments"
   ]
  },
  {
   "cell_type": "code",
   "execution_count": 23,
   "id": "73d04e13",
   "metadata": {},
   "outputs": [
    {
     "name": "stdout",
     "output_type": "stream",
     "text": [
      "14\n"
     ]
    }
   ],
   "source": [
    "def add(a,b):    # Formal arguments\n",
    "    c = a+b\n",
    "    print(c)\n",
    "    \n",
    "add(9,5)  # Actual arguments"
   ]
  },
  {
   "cell_type": "code",
   "execution_count": 24,
   "id": "884ce05c",
   "metadata": {},
   "outputs": [
    {
     "name": "stdout",
     "output_type": "stream",
     "text": [
      "Person name: devaki\n",
      "Person age: 21\n"
     ]
    }
   ],
   "source": [
    "# Positional arguments\n",
    "\n",
    "def person(name,age):\n",
    "    print(\"Person name:\",name)\n",
    "    print(\"Person age:\",age)\n",
    "    \n",
    "person(\"devaki\",21)"
   ]
  },
  {
   "cell_type": "code",
   "execution_count": 25,
   "id": "1591a9c0",
   "metadata": {},
   "outputs": [
    {
     "name": "stdout",
     "output_type": "stream",
     "text": [
      "Person name: 13\n",
      "Person age: devi\n"
     ]
    }
   ],
   "source": [
    "def person(name,age):\n",
    "    print(\"Person name:\",name)\n",
    "    print(\"Person age:\",age)\n",
    "    \n",
    "person(13,\"devi\")"
   ]
  },
  {
   "cell_type": "code",
   "execution_count": 27,
   "id": "bcfdc10d",
   "metadata": {},
   "outputs": [
    {
     "name": "stdout",
     "output_type": "stream",
     "text": [
      "Person name: devaki\n",
      "Person age: 12\n"
     ]
    }
   ],
   "source": [
    "# Keyword arguments\n",
    "def person(name,age):\n",
    "    print(\"Person name:\",name)\n",
    "    print(\"Person age:\",age-1)\n",
    "    \n",
    "person(age=13,name=\"devaki\")"
   ]
  },
  {
   "cell_type": "code",
   "execution_count": 30,
   "id": "ee122bf1",
   "metadata": {},
   "outputs": [
    {
     "name": "stdout",
     "output_type": "stream",
     "text": [
      "Person name: devaki\n",
      "Person age: 20\n"
     ]
    }
   ],
   "source": [
    "# Default arguments\n",
    "def person(name,age=21):\n",
    "    print(\"Person name:\",name)\n",
    "    print(\"Person age:\",age-1)\n",
    "    \n",
    "person(\"devaki\")"
   ]
  },
  {
   "cell_type": "code",
   "execution_count": 31,
   "id": "f5a97ea0",
   "metadata": {},
   "outputs": [
    {
     "name": "stdout",
     "output_type": "stream",
     "text": [
      "Person name: devaki\n",
      "Person age: 20\n"
     ]
    }
   ],
   "source": [
    "def person(name,age=21):\n",
    "    print(\"Person name:\",name)\n",
    "    print(\"Person age:\",age)\n",
    "    \n",
    "person(\"devaki\",20)"
   ]
  },
  {
   "cell_type": "code",
   "execution_count": 32,
   "id": "2fc7b7e4",
   "metadata": {},
   "outputs": [
    {
     "name": "stdout",
     "output_type": "stream",
     "text": [
      "a= 5\n",
      "b= (3, 7, 2)\n"
     ]
    }
   ],
   "source": [
    "# variable length arguments\n",
    "def add(a,*b):\n",
    "    print(\"a=\",a)\n",
    "    print(\"b=\",b)\n",
    "    \n",
    "add(5,3,7,2)"
   ]
  },
  {
   "cell_type": "code",
   "execution_count": 33,
   "id": "b417fa97",
   "metadata": {},
   "outputs": [
    {
     "name": "stdout",
     "output_type": "stream",
     "text": [
      "17\n"
     ]
    }
   ],
   "source": [
    "def add(a,*b):\n",
    "    s = a\n",
    "    for i in b:\n",
    "        s+= i\n",
    "    print(s)\n",
    "    \n",
    "add(5,3,7,2)"
   ]
  },
  {
   "cell_type": "code",
   "execution_count": null,
   "id": "b17f4bde",
   "metadata": {},
   "outputs": [],
   "source": []
  }
 ],
 "metadata": {
  "kernelspec": {
   "display_name": "Python 3",
   "language": "python",
   "name": "python3"
  },
  "language_info": {
   "codemirror_mode": {
    "name": "ipython",
    "version": 3
   },
   "file_extension": ".py",
   "mimetype": "text/x-python",
   "name": "python",
   "nbconvert_exporter": "python",
   "pygments_lexer": "ipython3",
   "version": "3.8.8"
  }
 },
 "nbformat": 4,
 "nbformat_minor": 5
}

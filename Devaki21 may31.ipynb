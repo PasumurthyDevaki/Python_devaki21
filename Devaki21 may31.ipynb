{
 "cells": [
  {
   "cell_type": "markdown",
   "id": "af8beafb",
   "metadata": {},
   "source": [
    "### Regular Expressions\n",
    "\n",
    "* First we have to import regular expression package **re**\n",
    "* **re.metodname(pattern/pattern variable,string/string variable)\n",
    "\n",
    "### Methods in re\n",
    "\n",
    "* search()\n",
    "* match()\n",
    "* findall()"
   ]
  },
  {
   "cell_type": "code",
   "execution_count": 1,
   "id": "ec67cf72",
   "metadata": {},
   "outputs": [
    {
     "data": {
      "text/plain": [
       "8.0"
      ]
     },
     "execution_count": 1,
     "metadata": {},
     "output_type": "execute_result"
    }
   ],
   "source": [
    "import math\n",
    "\n",
    "math.sqrt(64)"
   ]
  },
  {
   "cell_type": "code",
   "execution_count": 2,
   "id": "d71416f0",
   "metadata": {},
   "outputs": [
    {
     "data": {
      "text/plain": [
       "8.0"
      ]
     },
     "execution_count": 2,
     "metadata": {},
     "output_type": "execute_result"
    }
   ],
   "source": [
    "64**0.5"
   ]
  },
  {
   "cell_type": "code",
   "execution_count": 5,
   "id": "e15003d5",
   "metadata": {},
   "outputs": [
    {
     "name": "stdout",
     "output_type": "stream",
     "text": [
      "<re.Match object; span=(2, 4), match='ss'>\n",
      "None\n"
     ]
    }
   ],
   "source": [
    "import re\n",
    "\n",
    "print(re.search(\"ss\",\"Apssdc\"))\n",
    "print(re.search(\"Pyt\",\"APSSDC\"))"
   ]
  },
  {
   "cell_type": "code",
   "execution_count": 6,
   "id": "09fa2a35",
   "metadata": {},
   "outputs": [
    {
     "name": "stdout",
     "output_type": "stream",
     "text": [
      "APSSDC@1321\n",
      "<re.Match object; span=(6, 7), match='@'>\n"
     ]
    }
   ],
   "source": [
    "n = input()\n",
    "print(re.search(\"@\",n))"
   ]
  },
  {
   "cell_type": "code",
   "execution_count": 10,
   "id": "f3195e45",
   "metadata": {},
   "outputs": [
    {
     "name": "stdout",
     "output_type": "stream",
     "text": [
      "None\n",
      "<re.Match object; span=(0, 3), match='APS'>\n"
     ]
    }
   ],
   "source": [
    "# Match method\n",
    "print(re.match(\"As\",\"Apssdc\"))     #check charecter by charecter\n",
    "print(re.match(\"APS\",\"APSSDC\"))\n"
   ]
  },
  {
   "cell_type": "code",
   "execution_count": 11,
   "id": "da44397b",
   "metadata": {},
   "outputs": [
    {
     "name": "stdout",
     "output_type": "stream",
     "text": [
      "['ss', 'ss', 'ss', 'ss']\n"
     ]
    },
    {
     "data": {
      "text/plain": [
       "4"
      ]
     },
     "execution_count": 11,
     "metadata": {},
     "output_type": "execute_result"
    }
   ],
   "source": [
    "# Findall\n",
    "print(re.findall(\"ss\",\"ApssdcssDssDss\"))\n",
    "s = re.findall(\"ss\",\"ApssdcssDssDss\")\n",
    "len(s)"
   ]
  },
  {
   "cell_type": "markdown",
   "id": "6d641b89",
   "metadata": {},
   "source": [
    "### Symbols in Re\n",
    "\n",
    "<img src =\"https://miro.medium.com/max/2964/1*hjsbL45MhT2Tw5DGAYoAUg.png\">"
   ]
  },
  {
   "cell_type": "code",
   "execution_count": 12,
   "id": "9668376e",
   "metadata": {},
   "outputs": [
    {
     "name": "stdout",
     "output_type": "stream",
     "text": [
      "<re.Match object; span=(0, 2), match='@A'>\n",
      "<re.Match object; span=(0, 2), match='AP'>\n",
      "None\n",
      "None\n"
     ]
    }
   ],
   "source": [
    "# \".\" Symbol\n",
    "print(re.search(\"..\",\"@APSSDC\"))\n",
    "print(re.search(\"..\",\"AP\"))\n",
    "print(re.search(\"..\",\"A\"))\n",
    "print(re.search(\"..\",\"\"))"
   ]
  },
  {
   "cell_type": "code",
   "execution_count": 13,
   "id": "fe4aca89",
   "metadata": {},
   "outputs": [
    {
     "name": "stdout",
     "output_type": "stream",
     "text": [
      "<re.Match object; span=(0, 1), match='A'>\n",
      "<re.Match object; span=(0, 2), match='AP'>\n",
      "None\n"
     ]
    }
   ],
   "source": [
    "# \"^\" symbol\n",
    "print(re.search(\"^A\",\"APSSDC\"))\n",
    "print(re.search(\"^AP\",\"APSSDC\"))\n",
    "print(re.search(\"^A\",\"SAPSSDC\"))"
   ]
  },
  {
   "cell_type": "code",
   "execution_count": 16,
   "id": "af904cf4",
   "metadata": {},
   "outputs": [
    {
     "name": "stdout",
     "output_type": "stream",
     "text": [
      "<re.Match object; span=(4, 6), match='DC'>\n",
      "<re.Match object; span=(5, 6), match='C'>\n",
      "None\n",
      "None\n"
     ]
    }
   ],
   "source": [
    "# \"$\" symbol\n",
    "print(re.search(\"DC$\",\"APSSDC\"))\n",
    "print(re.search(\"C$\",\"APSSDC\"))\n",
    "print(re.search(\"DC$\",\"APSSDCS\"))\n",
    "print(re.match(\"DC$\",\"APSSDC\"))"
   ]
  },
  {
   "cell_type": "code",
   "execution_count": 15,
   "id": "b7b48de3",
   "metadata": {},
   "outputs": [
    {
     "name": "stdout",
     "output_type": "stream",
     "text": [
      "<re.Match object; span=(0, 1), match='A'>\n",
      "<re.Match object; span=(0, 0), match=''>\n",
      "None\n"
     ]
    }
   ],
   "source": [
    "# \"*\"  symbol\n",
    "print(re.search(\"A*\",\"APSSDC\"))\n",
    "print(re.search(\"A*\",\"PSSDC\"))\n",
    "print(re.search(\"A\",\"PSSDC\"))"
   ]
  },
  {
   "cell_type": "code",
   "execution_count": 17,
   "id": "9e89ba50",
   "metadata": {},
   "outputs": [
    {
     "name": "stdout",
     "output_type": "stream",
     "text": [
      "<re.Match object; span=(0, 7), match='AAAAAAA'>\n",
      "None\n",
      "<re.Match object; span=(0, 1), match='A'>\n"
     ]
    }
   ],
   "source": [
    "# \"+\"  symbol   #minimum one time \n",
    "print(re.search(\"A+\",\"AAAAAAAPSSDC\"))\n",
    "print(re.search(\"A+\",\"PSSDC\"))\n",
    "print(re.search(\"A+\",\"APSSDC\"))"
   ]
  },
  {
   "cell_type": "code",
   "execution_count": 21,
   "id": "098f4662",
   "metadata": {},
   "outputs": [
    {
     "name": "stdout",
     "output_type": "stream",
     "text": [
      "<re.Match object; span=(0, 5), match='AAAAA'>\n",
      "None\n",
      "<re.Match object; span=(0, 0), match=''>\n"
     ]
    }
   ],
   "source": [
    "#{min,max}\n",
    "print(re.search(\"A{1,5}\",\"AAAAAAAPSSDC\"))\n",
    "print(re.search(\"A{1,3}\",\"PSSDC\"))\n",
    "print(re.search(\"A{0,1}\",\"PSSDC\"))"
   ]
  },
  {
   "cell_type": "code",
   "execution_count": 25,
   "id": "3464a247",
   "metadata": {},
   "outputs": [
    {
     "name": "stdout",
     "output_type": "stream",
     "text": [
      "<re.Match object; span=(2, 3), match='S'>\n",
      "<re.Match object; span=(3, 4), match='T'>\n",
      "None\n",
      "<re.Match object; span=(0, 1), match='P'>\n",
      "None\n"
     ]
    }
   ],
   "source": [
    "# \"[]\"  symbol\n",
    "print(re.search(\"[ST]\",\"APSSDC\"))\n",
    "print(re.search(\"[TV]\",\"PSSTDC\"))\n",
    "print(re.search(\"TV\",\"APSSTDC\"))\n",
    "print(re.match(\"[ASP]\",\"PSSDC\"))\n",
    "print(re.match(\"[TV]\",\"APSSDCTV\"))"
   ]
  },
  {
   "cell_type": "code",
   "execution_count": 26,
   "id": "77ae475a",
   "metadata": {},
   "outputs": [
    {
     "name": "stdout",
     "output_type": "stream",
     "text": [
      "<re.Match object; span=(2, 3), match='1'>\n",
      "<re.Match object; span=(3, 5), match='12'>\n",
      "<re.Match object; span=(2, 3), match='P'>\n",
      "<re.Match object; span=(0, 2), match='12'>\n",
      "None\n"
     ]
    }
   ],
   "source": [
    "# \"\\d,\\D,\\s,\\S\"\n",
    "print(re.search(\"\\d\",\"AA12AAAAAPSSDC\"))\n",
    "print(re.search(\"\\d\\d\",\"PSS12DC\"))\n",
    "print(re.search(\"\\D\",\"12PSSDC\"))   #other thgan digit\n",
    "print(re.match(\"\\d\\d\",\"12AAAAAAAAPSSDC\"))\n",
    "print(re.match(\"\\d\\d\",\"Ss12AAAAAAAAAPSSDC\"))"
   ]
  },
  {
   "cell_type": "code",
   "execution_count": null,
   "id": "a1b8a78b",
   "metadata": {},
   "outputs": [],
   "source": []
  }
 ],
 "metadata": {
  "kernelspec": {
   "display_name": "Python 3",
   "language": "python",
   "name": "python3"
  },
  "language_info": {
   "codemirror_mode": {
    "name": "ipython",
    "version": 3
   },
   "file_extension": ".py",
   "mimetype": "text/x-python",
   "name": "python",
   "nbconvert_exporter": "python",
   "pygments_lexer": "ipython3",
   "version": "3.8.8"
  }
 },
 "nbformat": 4,
 "nbformat_minor": 5
}

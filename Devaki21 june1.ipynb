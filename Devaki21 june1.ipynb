{
 "cells": [
  {
   "cell_type": "markdown",
   "id": "3660d18c",
   "metadata": {},
   "source": [
    "### Name Validation\n",
    "\n",
    "* P Devakidevi\n",
    "* Devakidevi P\n",
    "* P. Devakidevi\n",
    "* P Devaki Devi\n",
    "* Devaki Devi Pasumurthy\n",
    "* Pasumurthy Devaki"
   ]
  },
  {
   "cell_type": "code",
   "execution_count": 3,
   "id": "24fea5a5",
   "metadata": {},
   "outputs": [
    {
     "name": "stdout",
     "output_type": "stream",
     "text": [
      "P Devaki\n"
     ]
    },
    {
     "data": {
      "text/plain": [
       "<re.Match object; span=(0, 8), match='P Devaki'>"
      ]
     },
     "execution_count": 3,
     "metadata": {},
     "output_type": "execute_result"
    }
   ],
   "source": [
    "import re\n",
    "pattern = \"[A-Z][A-Za-z]{0,10}[.]{0,1}[.]{0,1}[ ][A-Z][A-Za-z]{2,10}[ ]{0,1}[A-Z]{0,1}[A-Za-z]{0,9}\"\n",
    "n = input()\n",
    "re.match(pattern,n)"
   ]
  },
  {
   "cell_type": "markdown",
   "id": "9c05f967",
   "metadata": {},
   "source": [
    "### Phone Numbers\n",
    "\n",
    "* 6745321986\n",
    "* 06745321986\n",
    "* 916745321986\n",
    "* +916745321986"
   ]
  },
  {
   "cell_type": "code",
   "execution_count": 5,
   "id": "4f5d7afb",
   "metadata": {},
   "outputs": [
    {
     "name": "stdout",
     "output_type": "stream",
     "text": [
      "918886433818\n"
     ]
    },
    {
     "data": {
      "text/plain": [
       "<re.Match object; span=(0, 12), match='918886433818'>"
      ]
     },
     "execution_count": 5,
     "metadata": {},
     "output_type": "execute_result"
    }
   ],
   "source": [
    "pattern = \"[+]{0,1}[9][1][6-9][0-9]{9}|[0]{0,1}[6-9][0-9]{9}\"\n",
    "n = input()\n",
    "re.match(pattern,n)"
   ]
  },
  {
   "cell_type": "markdown",
   "id": "32bda8f3",
   "metadata": {},
   "source": [
    "### Email Validator\n",
    "\n",
    "* devakipasumurthy137@gmail.com\n",
    "\n",
    "\n",
    "* all letters must be lowercase alphabets ===>6 max 14\n",
    "* contains some numbers (optional)  ==>1 to 6\n",
    "* it may contain special charecters(optional)  ==> [&.-].\n",
    "* after special charecter must contains numbers or digits\n",
    "* must contain @\n",
    "* must contain some alphabets ====>length 4-8\n",
    "* must contain .\n",
    "* must contain some alphabets ===> length 2-4"
   ]
  },
  {
   "cell_type": "markdown",
   "id": "929b6dd1",
   "metadata": {},
   "source": [
    "### Comprehension\n",
    "* \n",
    "\n",
    "\n",
    "### Types\n",
    "* List Comprehension\n",
    "* Set Comprehension\n",
    "* Dictionary Comprehension"
   ]
  },
  {
   "cell_type": "markdown",
   "id": "293104f4",
   "metadata": {},
   "source": [
    "### List Comprehension\n",
    "\n",
    "Syntax:\n",
    "* if only if condition is there====>[output loop condition]\n",
    "* if contains both if and else===>[output(if)condition loop]"
   ]
  },
  {
   "cell_type": "code",
   "execution_count": 7,
   "id": "6b589943",
   "metadata": {},
   "outputs": [
    {
     "name": "stdout",
     "output_type": "stream",
     "text": [
      "Even numbers: [2, 4, 6, 8]\n"
     ]
    }
   ],
   "source": [
    "n = [1,2,3,4,5,6,7,8,9]    #output: even numbers\n",
    "m = []\n",
    "for i in n:\n",
    "    if i%2==0:\n",
    "        m.append(i)\n",
    "print(\"Even numbers:\",m)"
   ]
  },
  {
   "cell_type": "code",
   "execution_count": 8,
   "id": "b98a3067",
   "metadata": {},
   "outputs": [
    {
     "name": "stdout",
     "output_type": "stream",
     "text": [
      "Even numbers: [2, 4, 6, 8]\n"
     ]
    }
   ],
   "source": [
    "### List Comprehension\n",
    "m = [i for i in n if i%2==0]\n",
    "print(\"Even numbers:\",m)"
   ]
  },
  {
   "cell_type": "code",
   "execution_count": 9,
   "id": "75b37081",
   "metadata": {},
   "outputs": [
    {
     "data": {
      "text/plain": [
       "['odd', 'Even', 'odd', 'Even', 'odd', 'Even', 'odd', 'Even', 'odd']"
      ]
     },
     "execution_count": 9,
     "metadata": {},
     "output_type": "execute_result"
    }
   ],
   "source": [
    "[\"Even\" if i%2==0 else \"odd\" for i in n]"
   ]
  },
  {
   "cell_type": "code",
   "execution_count": 10,
   "id": "520a6dd9",
   "metadata": {},
   "outputs": [
    {
     "data": {
      "text/plain": [
       "['a', 'b']"
      ]
     },
     "execution_count": 10,
     "metadata": {},
     "output_type": "execute_result"
    }
   ],
   "source": [
    "n = [1,2,3,4,\"a\",\"b\"]\n",
    "[i for i in n if str(i).isalpha()]"
   ]
  },
  {
   "cell_type": "code",
   "execution_count": null,
   "id": "330149a0",
   "metadata": {},
   "outputs": [],
   "source": []
  }
 ],
 "metadata": {
  "kernelspec": {
   "display_name": "Python 3",
   "language": "python",
   "name": "python3"
  },
  "language_info": {
   "codemirror_mode": {
    "name": "ipython",
    "version": 3
   },
   "file_extension": ".py",
   "mimetype": "text/x-python",
   "name": "python",
   "nbconvert_exporter": "python",
   "pygments_lexer": "ipython3",
   "version": "3.8.8"
  }
 },
 "nbformat": 4,
 "nbformat_minor": 5
}
